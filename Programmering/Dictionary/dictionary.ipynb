{
 "metadata": {
  "language_info": {
   "codemirror_mode": {
    "name": "ipython",
    "version": 3
   },
   "file_extension": ".py",
   "mimetype": "text/x-python",
   "name": "python",
   "nbconvert_exporter": "python",
   "pygments_lexer": "ipython3",
   "version": "3.8.5-final"
  },
  "orig_nbformat": 2,
  "kernelspec": {
   "name": "python3",
   "display_name": "Python 3.8.5 64-bit (conda)",
   "metadata": {
    "interpreter": {
     "hash": "70bf31b31704495002cc55a53cab787c355d0c6d86606be08267cb5646b4b65b"
    }
   }
  }
 },
 "nbformat": 4,
 "nbformat_minor": 2,
 "cells": [
  {
   "cell_type": "code",
   "execution_count": 10,
   "metadata": {},
   "outputs": [
    {
     "output_type": "stream",
     "name": "stdout",
     "text": [
      "{'Matte': '100', 'Programmering1': '100', 'Svenska': '100'}\n"
     ]
    }
   ],
   "source": [
    "skolakurser = {\n",
    "    \"Matte\": \"100\",\n",
    "    \"Programmering1\": \"100\",\n",
    "    \"Svenska\" : \"100\"\n",
    "}\n",
    "\n",
    "print(skolakurser)"
   ]
  },
  {
   "cell_type": "code",
   "execution_count": 175,
   "metadata": {},
   "outputs": [
    {
     "output_type": "stream",
     "name": "stdout",
     "text": [
      "Frekvenstabell\n1: 1641\n2: 1642\n3: 1669\n4: 1606\n5: 1743\n6: 1698\n"
     ]
    }
   ],
   "source": [
    "import random\n",
    "\n",
    "print(\"Frekvenstabell\")\n",
    "\n",
    "ett = []\n",
    "två = []\n",
    "tre = []\n",
    "fyra = []\n",
    "fem = []\n",
    "sex = []\n",
    "\n",
    "for i in range(1,10000):\n",
    "    talen  = random.randint(1,6)\n",
    "    if talen == 1:\n",
    "        ett.append([talen])\n",
    "    elif talen == 2:\n",
    "        två.append([talen])\n",
    "    elif talen == 3:\n",
    "        tre.append([talen])\n",
    "    elif talen == 4:\n",
    "        fyra.append([talen])\n",
    "    elif talen == 5:\n",
    "        fem.append([talen])\n",
    "    elif talen == 6:\n",
    "        sex.append([talen])\n",
    "\n",
    "\n",
    "\n",
    "tärningskast = {\n",
    "    \"1\" : len(ett),\n",
    "    \"2\" : len(två),\n",
    "    \"3\" : len(tre),\n",
    "    \"4\" : len(fyra),\n",
    "    \"5\" : len(fem),\n",
    "    \"6\" : len(sex)\n",
    "}\n",
    "\n",
    "\n",
    "for vänster, höger in tärningskast.items():\n",
    "    print(f\"{vänster}: {höger}\")\n",
    "\n",
    "\n"
   ]
  },
  {
   "cell_type": "code",
   "execution_count": 11,
   "metadata": {},
   "outputs": [
    {
     "output_type": "stream",
     "name": "stdout",
     "text": [
      "Hej\nHej\nHej\nHej\nHej\nHej\nHej\nHej\nHej\nHej\nHej\nHej\nHej\nHej\nHej\nHej\nHej\nHej\nHej\nHej\nHej\nHej\nHej\nHej\nHej\nHej\nHej\nHej\nHej\nHej\nHej\nHej\nHej\nHej\nHej\nHej\nHej\nHej\nHej\nHej\nHej\nHej\nHej\nHej\nHej\nHej\nHej\nHej\nHej\nHej\nHej\nHej\nHej\nHej\nHej\nHej\nHej\nHej\nHej\nHej\nHej\nHej\nHej\nHej\nHej\nHej\nHej\nHej\nHej\nHej\nHej\nHej\nHej\nHej\nHej\nHej\nHej\nHej\nHej\nHej\nHej\nHej\nHej\nHej\nHej\nHej\nHej\nHej\nHej\nHej\nHej\nHej\nHej\nHej\nHej\nHej\nHej\nHej\nHej\nHej\nHej\nHej\nHej\nHej\nHej\nHej\nHej\nHej\nHej\nHej\nHej\nHej\nHej\nHej\nHej\nHej\nHej\nHej\nHej\nHej\nHej\nHej\nHej\nHej\nHej\nHej\nHej\nHej\nHej\nHej\nHej\nHej\nHej\nHej\nHej\nHej\nHej\nHej\nHej\nHej\nHej\nHej\nHej\nHej\nHej\nHej\nHej\nHej\nHej\nHej\n1\n5\n0\n \nM\ne\nw\nt\nw\no\n \nP\ns\ny\nk\ni\ns\nk\n\n\n"
     ]
    }
   ],
   "source": [
    "\n",
    "pokemonlista = []\n",
    "\n",
    "pokedex = {\n",
    "\n",
    "\n",
    "\n",
    "\n",
    "}\n",
    "\n",
    "\n",
    "with open(\"pokemonlista.txt\",\"r\") as f1:\n",
    "    for rad in f1:\n",
    "        print(\"Hej\")\n",
    "    for rad1 in rad:\n",
    "        print(rad1)"
   ]
  },
  {
   "cell_type": "code",
   "execution_count": null,
   "metadata": {},
   "outputs": [],
   "source": []
  }
 ]
}