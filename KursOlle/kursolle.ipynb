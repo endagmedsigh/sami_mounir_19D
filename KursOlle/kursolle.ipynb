{
 "metadata": {
  "language_info": {
   "codemirror_mode": {
    "name": "ipython",
    "version": 3
   },
   "file_extension": ".py",
   "mimetype": "text/x-python",
   "name": "python",
   "nbconvert_exporter": "python",
   "pygments_lexer": "ipython3",
   "version": "3.8.3-final"
  },
  "orig_nbformat": 2,
  "kernelspec": {
   "name": "python3",
   "display_name": "Python 3"
  }
 },
 "nbformat": 4,
 "nbformat_minor": 2,
 "cells": [
  {
   "cell_type": "code",
   "execution_count": null,
   "metadata": {},
   "outputs": [],
   "source": [
    "#Uppgift: m04u01\n",
    "tal = 1\n",
    "for i in range (10,1,-2):\n",
    "    print(i)\n",
    "    tal *= i\n",
    "else:\n",
    "    print(\"SUmman är\", tal)\n",
    "    \n",
    "    "
   ]
  },
  {
   "cell_type": "code",
   "execution_count": null,
   "metadata": {},
   "outputs": [],
   "source": [
    "#Uppgift: m04u01\n",
    "\n",
    "#Redan gjort den "
   ]
  },
  {
   "cell_type": "code",
   "execution_count": 1,
   "metadata": {},
   "outputs": [
    {
     "output_type": "stream",
     "name": "stdout",
     "text": [
      "\nVi loopar från 10 till 20.\nNär i är 12 så är totalsumman 33\nNär i är 15 så är totalsumman 75\nNär i är 18 så är totalsumman 126\nNär vi loopat färdigt så är summan 165\n"
     ]
    }
   ],
   "source": [
    "summa = 0\n",
    "start = 10\n",
    "stopp = 20\n",
    "print(\"\\nVi loopar från {} till {}.\".format(start, stopp))\n",
    "# Loopar från start till stopp\n",
    "for i in range (start, stopp+1):\n",
    "    summa += i\n",
    "    # Om i är jämnt delbart med 3 skriver vi ut en delberäkning\n",
    "    if i % 3 == 0:\n",
    "        print(\"När i är {} så är totalsumman {}\".format(i, summa))\n",
    "# else som tillhör loopen och körs när loopen har körts färdigt\n",
    "else:\n",
    "    print(\"När vi loopat färdigt så är summan {}\".format(summa))"
   ]
  },
  {
   "cell_type": "code",
   "execution_count": 37,
   "metadata": {},
   "outputs": [
    {
     "output_type": "stream",
     "name": "stdout",
     "text": [
      " 1  2  3  4  5  6  7  8  9 10\n 2  4  6  8 10 12 14 16 18 20\n 3  6  9 12 15 18 21 24 27 30\n 4  8 12 16 20 24 28 32 36 40\n 5 10 15 20 25 30 35 40 45 50\n 6 12 18 24 30 36 42 48 54 60\n 7 14 21 28 35 42 49 56 63 70\n 8 16 24 32 40 48 56 64 72 80\n 9 18 27 36 45 54 63 72 81 90\n10 20 30 40 50 60 70 80 90 100\n"
     ]
    }
   ],
   "source": [
    "#m04u03\n",
    "tal = int(input(\"Skriv ditt tal\"))\n",
    "tal2 = int(input(\"Skriv ditt tal\"))\n",
    "for i in range(1,tal+1):\n",
    "    print(*(\"{:4}\".format(i*rad) \n",
    "    for rad in range (1,tal2+1)))"
   ]
  },
  {
   "cell_type": "code",
   "execution_count": 1,
   "metadata": {},
   "outputs": [
    {
     "output_type": "stream",
     "name": "stdout",
     "text": [
      "1\n2\n3\n4\n5\n6\n7\n8\n9\n10\nDet var alla tal\n"
     ]
    }
   ],
   "source": [
    "#m04u04\n",
    "num = 1\n",
    "\n",
    "while num < 11:\n",
    "    print(num)\n",
    "    num += 1\n",
    "else:\n",
    "    print(\"Det var alla tal\")\n",
    "\n",
    "\n"
   ]
  },
  {
   "cell_type": "code",
   "execution_count": 30,
   "metadata": {},
   "outputs": [
    {
     "output_type": "stream",
     "name": "stdout",
     "text": [
      "Det tar 14 år\n"
     ]
    }
   ],
   "source": [
    "#m04u05\n",
    "\n",
    "antal = 100\n",
    "år = 0\n",
    "\n",
    "while antal < 1000000:\n",
    "    antal *= 2\n",
    "    år += 1\n",
    "else: print (f\"Det tar {år} år\") "
   ]
  },
  {
   "cell_type": "code",
   "execution_count": 32,
   "metadata": {},
   "outputs": [],
   "source": [
    "#m04e02\n",
    "\n"
   ]
  },
  {
   "cell_type": "code",
   "execution_count": null,
   "metadata": {},
   "outputs": [],
   "source": [
    "#m04u06\n",
    "\n"
   ]
  }
 ]
}