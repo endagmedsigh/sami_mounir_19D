{
 "metadata": {
  "language_info": {
   "codemirror_mode": {
    "name": "ipython",
    "version": 3
   },
   "file_extension": ".py",
   "mimetype": "text/x-python",
   "name": "python",
   "nbconvert_exporter": "python",
   "pygments_lexer": "ipython3",
   "version": "3.8.5-final"
  },
  "orig_nbformat": 2,
  "kernelspec": {
   "name": "python3",
   "display_name": "Python 3",
   "language": "python"
  }
 },
 "nbformat": 4,
 "nbformat_minor": 2,
 "cells": [
  {
   "cell_type": "code",
   "execution_count": null,
   "metadata": {},
   "outputs": [],
   "source": [
    "#Uppgift: m04u01\n",
    "tal = 1\n",
    "for i in range (10,1,-2):\n",
    "    print(i)\n",
    "    tal *= i\n",
    "else:\n",
    "    print(\"SUmman är\", tal)\n",
    "    \n",
    "    "
   ]
  },
  {
   "cell_type": "code",
   "execution_count": null,
   "metadata": {},
   "outputs": [],
   "source": [
    "#Uppgift: m04u01\n",
    "\n",
    "#Redan gjort den "
   ]
  },
  {
   "cell_type": "code",
   "execution_count": 1,
   "metadata": {},
   "outputs": [
    {
     "output_type": "stream",
     "name": "stdout",
     "text": [
      "\nVi loopar från 10 till 20.\nNär i är 12 så är totalsumman 33\nNär i är 15 så är totalsumman 75\nNär i är 18 så är totalsumman 126\nNär vi loopat färdigt så är summan 165\n"
     ]
    }
   ],
   "source": [
    "summa = 0\n",
    "start = 10\n",
    "stopp = 20\n",
    "print(\"\\nVi loopar från {} till {}.\".format(start, stopp))\n",
    "# Loopar från start till stopp\n",
    "for i in range (start, stopp+1):\n",
    "    summa += i\n",
    "    # Om i är jämnt delbart med 3 skriver vi ut en delberäkning\n",
    "    if i % 3 == 0:\n",
    "        print(\"När i är {} så är totalsumman {}\".format(i, summa))\n",
    "# else som tillhör loopen och körs när loopen har körts färdigt\n",
    "else:\n",
    "    print(\"När vi loopat färdigt så är summan {}\".format(summa))"
   ]
  },
  {
   "cell_type": "code",
   "execution_count": 1,
   "metadata": {},
   "outputs": [
    {
     "output_type": "stream",
     "name": "stdout",
     "text": [
      "   1    2    3    4\n   2    4    6    8\n   3    6    9   12\n"
     ]
    }
   ],
   "source": [
    "#m04u03\n",
    "tal = int(input(\"Skriv ditt tal\"))\n",
    "tal2 = int(input(\"Skriv ditt tal\"))\n",
    "for i in range(1,tal+1):\n",
    "    print(*(\"{:4}\".format(i*rad) \n",
    "    for rad in range (1,tal2+1)))"
   ]
  },
  {
   "cell_type": "code",
   "execution_count": 1,
   "metadata": {},
   "outputs": [
    {
     "output_type": "stream",
     "name": "stdout",
     "text": [
      "1\n2\n3\n4\n5\n6\n7\n8\n9\n10\nDet var alla tal\n"
     ]
    }
   ],
   "source": [
    "#m04u04\n",
    "num = 1\n",
    "\n",
    "while num < 11:\n",
    "    print(num)\n",
    "    num += 1\n",
    "else:\n",
    "    print(\"Det var alla tal\")\n",
    "\n",
    "\n"
   ]
  },
  {
   "cell_type": "code",
   "execution_count": 17,
   "metadata": {},
   "outputs": [
    {
     "output_type": "stream",
     "name": "stdout",
     "text": [
      "Det tar 14 år\n"
     ]
    }
   ],
   "source": [
    "#m04u05\n",
    "\n",
    "antal = 100\n",
    "år = 0\n",
    "\n",
    "while antal < 1000000:\n",
    "    antal *= 2\n",
    "    år += 1\n",
    "else: print (f\"Det tar {år} år\") "
   ]
  },
  {
   "cell_type": "code",
   "execution_count": 15,
   "metadata": {},
   "outputs": [
    {
     "output_type": "stream",
     "name": "stdout",
     "text": [
      "14\n"
     ]
    }
   ],
   "source": [
    "#m04e02\n",
    "antal = 100\n",
    "år = 0\n",
    "\n",
    "while antal < 1000000:\n",
    "    antal *= 2\n",
    "    år += 1\n",
    "    if antal < 1000000:\n",
    "        continue\n",
    "    print(år)\n",
    "\n"
   ]
  },
  {
   "cell_type": "code",
   "execution_count": 6,
   "metadata": {},
   "outputs": [
    {
     "output_type": "stream",
     "name": "stdout",
     "text": [
      "20\n21\nNej\n23\n24\n25\n26\n27\n28\n29\n30\n31\n32\n33\n34\n35\n36\n"
     ]
    }
   ],
   "source": [
    "#m04u06\n",
    "\n",
    "talstart = int(input(\"Skriv ditt start tal\")) - 1\n",
    "talslut = int(input(\"Skriv ditt slut tal\"))\n",
    "talute = int(input(\"Skriv ditt som ej ska komma med\"))\n",
    "talbreak = int(input(\"Skriv ditt tal där loppen bryts\")) + 1\n",
    "\n",
    "while talstart < talslut:\n",
    "    talstart += 1\n",
    "    if talstart == talbreak:\n",
    "        break\n",
    "    if talstart == talute:\n",
    "        print(\"Nej\")\n",
    "        continue\n",
    "    print(talstart)\n",
    "   "
   ]
  },
  {
   "cell_type": "code",
   "execution_count": 4,
   "metadata": {},
   "outputs": [],
   "source": [
    "#m04u07\n"
   ]
  },
  {
   "cell_type": "code",
   "execution_count": 1,
   "metadata": {},
   "outputs": [
    {
     "output_type": "stream",
     "name": "stdout",
     "text": [
      "Det var ingen hel tal börja om\n",
      "Det var ingen hel tal börja om\n",
      "Det var ingen hel tal börja om\n",
      "Det var ingen hel tal börja om\n",
      "Det var ingen hel tal börja om\n",
      "Det var ingen hel tal börja om\n",
      "Det var ingen hel tal börja om\n",
      "Det var ingen hel tal börja om\n",
      "10\n",
      "11\n",
      "Nej\n",
      "13\n",
      "14\n",
      "15\n",
      "16\n",
      "17\n",
      "18\n"
     ]
    }
   ],
   "source": [
    "#m04u07\n",
    "\n",
    "while True:\n",
    "    try:\n",
    "        talstart = int(input(\"Skriv ditt start tal\")) - 1\n",
    "        talslut = int(input(\"Skriv ditt slut tal\"))\n",
    "    except:\n",
    "        print(\"Det var ingen hel tal börja om\")\n",
    "        continue\n",
    "\n",
    "    if talslut > talstart:\n",
    "        break\n",
    "            \n",
    "    else:\n",
    "        print(\"Talstarten är större än sluttalen börja om\")\n",
    "        continue\n",
    "\n",
    "while True:\n",
    "    try:\n",
    "        talbreak = int(input(\"Skriv ditt tal där loppen bryts\")) + 1\n",
    "        break\n",
    "    except:\n",
    "        print(\"Det var ingen hel tal börja om\")\n",
    "        continue\n",
    "while True:\n",
    "    try:\n",
    "        talute = int(input(\"Skriv ditt som ej ska komma med\"))\n",
    "        break\n",
    "    except:\n",
    "        print(\"Det var ingen hel tal börja om\")\n",
    "        continue\n",
    "\n",
    "\n",
    "while talstart < talslut:\n",
    "    talstart += 1\n",
    "    if talstart == talbreak:\n",
    "        break\n",
    "    if talstart == talute:\n",
    "        print(\"Nej\")\n",
    "        continue\n",
    "    print(talstart)\n",
    "    \n",
    "\n",
    "\n"
   ]
  },
  {
   "cell_type": "code",
   "execution_count": 7,
   "metadata": {},
   "outputs": [],
   "source": [
    "lista = []\n",
    "\n",
    "while True:\n",
    "    nummer = int(input(\"NUmmer\"))\n",
    "    lista.append(nummer)\n",
    "    if nummer == 0:\n",
    "            break\n",
    "    if nummer == \"clear\":\n",
    "        lista.clear()\n",
    "\n",
    "    print(lista)\n",
    "    print(f\"Högsta talet är\", max(lista))\n",
    "    print(f\"Minsta talet är\", min(lista))\n",
    "    print(f\"Summan av talen är\", sum(lista))\n"
   ]
  },
  {
   "cell_type": "code",
   "execution_count": 104,
   "metadata": {},
   "outputs": [
    {
     "output_type": "stream",
     "name": "stdout",
     "text": [
      "[3, 2, 3, 2, 1]\n"
     ]
    }
   ],
   "source": [
    "from random import randint\n",
    "\n",
    "lista = []\n",
    "slag = int(input(\"Hur många slag\"))\n",
    "\n",
    "for i in range(slag):\n",
    "    slagen = randint(1,6)\n",
    "    lista.append(slagen)\n",
    "\n",
    "print(lista)\n"
   ]
  },
  {
   "cell_type": "code",
   "execution_count": null,
   "metadata": {},
   "outputs": [],
   "source": [
    "#Sista Uppgiften\n",
    "\n",
    "\n",
    "\n"
   ]
  },
  {
   "cell_type": "code",
   "execution_count": null,
   "metadata": {},
   "outputs": [],
   "source": []
  }
 ]
}