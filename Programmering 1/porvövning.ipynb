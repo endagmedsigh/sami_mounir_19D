{
 "metadata": {
  "language_info": {
   "codemirror_mode": {
    "name": "ipython",
    "version": 3
   },
   "file_extension": ".py",
   "mimetype": "text/x-python",
   "name": "python",
   "nbconvert_exporter": "python",
   "pygments_lexer": "ipython3",
   "version": "3.8.5-final"
  },
  "orig_nbformat": 2,
  "kernelspec": {
   "name": "python3",
   "display_name": "Python 3",
   "language": "python"
  }
 },
 "nbformat": 4,
 "nbformat_minor": 2,
 "cells": [
  {
   "cell_type": "code",
   "execution_count": 1,
   "metadata": {},
   "outputs": [
    {
     "output_type": "stream",
     "name": "stdout",
     "text": [
      "2.0\n"
     ]
    }
   ],
   "source": [
    "def tal(x1,x2,x3):\n",
    "    return (x1+x2+x3)/3\n",
    "\n",
    "print(tal(1,2,3))"
   ]
  },
  {
   "cell_type": "code",
   "execution_count": 8,
   "metadata": {},
   "outputs": [
    {
     "output_type": "stream",
     "name": "stdout",
     "text": [
      "124788.24899079137\n"
     ]
    }
   ],
   "source": [
    "import math\n",
    "\n",
    "def radie(r):\n",
    "    rad = (r*r*r*math.pi*4)/3\n",
    "    return rad\n",
    "\n",
    "print(radie(int(input(\"Skriv ditt tal\"))))"
   ]
  },
  {
   "cell_type": "code",
   "execution_count": 1,
   "metadata": {},
   "outputs": [
    {
     "output_type": "stream",
     "name": "stdout",
     "text": [
      "4\n"
     ]
    }
   ],
   "source": [
    "\n",
    "def countword(string):\n",
    "    räknad = string.split(' ')\n",
    "    return len(räknad)\n",
    "print(countword(input(\"SKriv din mening\")))"
   ]
  },
  {
   "cell_type": "code",
   "execution_count": null,
   "metadata": {},
   "outputs": [],
   "source": [
    "tal = int(input(\"Skriv ditt tal\"))\n",
    "tal2 = int(input(\"Skriv ditt tal\"))\n",
    "for i in range(1,tal+1):\n",
    "    print(*(\"{:4}\".format(i*rad) \n",
    "    for rad in range (1,tal2+1)))"
   ]
  },
  {
   "cell_type": "code",
   "execution_count": 61,
   "metadata": {},
   "outputs": [
    {
     "output_type": "stream",
     "name": "stdout",
     "text": [
      "168\n"
     ]
    }
   ],
   "source": [
    "from random import randint\n",
    "\n",
    "tärningskast = 1000\n",
    "\n",
    "lista = []\n",
    "\n",
    "for i in range(tärningskast):\n",
    "    tärning = randint(1,6)\n",
    "    if tärning == 5:\n",
    "        lista.append(1)\n",
    "print(sum(lista))\n",
    "        \n",
    "\n"
   ]
  },
  {
   "cell_type": "code",
   "execution_count": 4,
   "metadata": {},
   "outputs": [
    {
     "output_type": "stream",
     "name": "stdout",
     "text": [
      "12312 Tusenlappar, 0 Femhundralappar, 2 Tvåhundra, 0 Hundralappar, 0 Femtiolappar, 0 Tjugolappar, 1 Tiokronor, 0 Femkronor, 2 Enkronor, "
     ]
    }
   ],
   "source": [
    "def växla(summa):\n",
    "    kontanter = [1000,500,200,100,50,20,10,5,1]\n",
    "    sedlar = [\"Tusenlappar\",\"Femhundralappar\",\"Tvåhundra\",\"Hundralappar\",\"Femtiolappar\",\"Tjugolappar\",\"Tiokronor\",\"Femkronor\",\"Enkronor\"]\n",
    "\n",
    "    for i in range(len(kontanter)):\n",
    "        antal = summa//kontanter[i]\n",
    "        summa %= kontanter[i]\n",
    "        print(f\"{antal} {sedlar[i]}\", end=\", \")\n",
    "\n",
    "växla(int(input(\"pnegar\")))\n",
    "        \n",
    "    \n"
   ]
  },
  {
   "cell_type": "code",
   "execution_count": 31,
   "metadata": {},
   "outputs": [
    {
     "output_type": "stream",
     "name": "stdout",
     "text": [
      "['4539']\n"
     ]
    }
   ],
   "source": [
    "nume"
   ]
  },
  {
   "cell_type": "code",
   "execution_count": null,
   "metadata": {},
   "outputs": [],
   "source": [
    "\n",
    "def växla(summa):\n",
    "    kontanter = [1000, 500, 200, 100, 50, 20, 10, 5, 1]\n",
    "    sedlar = [\"Tusenlappar\",\"Femhundralappar\", \"Tvåhundralapapr\", \"Hundralappar\", \"Femtiolappar\", \"Tjugolappar\", \"Tiokronor\", \"Femkronor\", \"Enkronor\"]\n",
    "\n",
    "    for i in range(len(kontanter)):\n",
    "        antal = summa//kontanter[i]\n",
    "        summa %= kontanter[i]\n",
    "        print(f\"{antal} {sedlar[i]}\", end=\", \")\n",
    "\n",
    "växla(int(input(\"Penagr\")))\n"
   ]
  },
  {
   "cell_type": "code",
   "execution_count": 7,
   "metadata": {},
   "outputs": [
    {
     "output_type": "stream",
     "name": "stdout",
     "text": [
      "6 Tusenlappar,0 Femhundralappar,1 Tvåhundralappar,1 Hundralappar,0 Femtiolappar,2 Tjugolappar,0 Tiokronor,1 Femkronor,0 Enkronor,"
     ]
    }
   ],
   "source": [
    "def växla(summa):\n",
    "    kontanter = [1000,500,200,100,50,20,10,5,1]\n",
    "    sedlar = [\"Tusenlappar\",\"Femhundralappar\",\"Tvåhundralappar\",\"Hundralappar\",\"Femtiolappar\",\"Tjugolappar\",\"Tiokronor\",\"Femkronor\",\"Enkronor\"]\n",
    "\n",
    "    for i in range(len(kontanter)):\n",
    "        antal = summa//kontanter[i]\n",
    "        summa %= kontanter[i]\n",
    "        print(f\"{antal} {sed[i]}\", end=\",\")\n",
    "växla(int(input(\"Penagr\")))"
   ]
  },
  {
   "cell_type": "code",
   "execution_count": null,
   "metadata": {},
   "outputs": [],
   "source": []
  }
 ]
}