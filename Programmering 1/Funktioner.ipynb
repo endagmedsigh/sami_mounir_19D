{
 "metadata": {
  "language_info": {
   "codemirror_mode": {
    "name": "ipython",
    "version": 3
   },
   "file_extension": ".py",
   "mimetype": "text/x-python",
   "name": "python",
   "nbconvert_exporter": "python",
   "pygments_lexer": "ipython3",
   "version": "3.8.5-final"
  },
  "orig_nbformat": 2,
  "kernelspec": {
   "name": "python3",
   "display_name": "Python 3",
   "language": "python"
  }
 },
 "nbformat": 4,
 "nbformat_minor": 2,
 "cells": [
  {
   "cell_type": "code",
   "execution_count": 7,
   "metadata": {},
   "outputs": [
    {
     "output_type": "stream",
     "name": "stdout",
     "text": [
      "4\n"
     ]
    }
   ],
   "source": [
    "arab = input(\"Skriv din mening\")\n",
    "arab1 = arab.split()\n",
    "\n",
    "print(len(arab1))"
   ]
  },
  {
   "cell_type": "code",
   "execution_count": 14,
   "metadata": {},
   "outputs": [
    {
     "output_type": "stream",
     "name": "stdout",
     "text": [
      "negativt\n"
     ]
    }
   ],
   "source": [
    "def tecken(tal):\n",
    "    if tal > 0:\n",
    "        print(\"Positvt\")\n",
    "    elif tal < 0:\n",
    "        print(\"negativt\")\n",
    "    else:\n",
    "        print(\"Tal är noll\")\n",
    "tecken(5)"
   ]
  },
  {
   "cell_type": "code",
   "execution_count": 18,
   "metadata": {},
   "outputs": [
    {
     "output_type": "stream",
     "name": "stdout",
     "text": [
      "Dom är kompisar\n"
     ]
    }
   ],
   "source": [
    "def tiokompis(tal1,tal2):\n",
    "    if tal1 + tal2 == 10:\n",
    "        print(\"Dom är kompisar\")\n",
    "    else:\n",
    "        print(\"DIn dumma terrorist dom är inte kompisar\")\n",
    "\n",
    "tiokompis(int(input(\"Skriv din dumma tal\")),int(input(\"Skriv din dumma tal\")))"
   ]
  },
  {
   "cell_type": "code",
   "execution_count": 21,
   "metadata": {},
   "outputs": [
    {
     "output_type": "stream",
     "name": "stdout",
     "text": [
      "Dom är kompisar\n"
     ]
    }
   ],
   "source": [
    "tal1 = int(input(\"Skriv din dumma tal\"))\n",
    "tal2 = int(input(\"Skriv din dumma tal\"))\n",
    " \n",
    "if tal1 + tal2 == 10:\n",
    "        print(\"Dom är kompisar\")\n",
    "else:\n",
    "    print(\"DIn dumma terrorist dom är inte kompisar\")"
   ]
  },
  {
   "cell_type": "code",
   "execution_count": 1,
   "metadata": {},
   "outputs": [
    {
     "output_type": "stream",
     "name": "stdout",
     "text": [
      "14\n"
     ]
    }
   ],
   "source": [
    "def rektangel(sida1,sida2):\n",
    "    omkrets = sida1 * 2 + sida2 * 2\n",
    "    print(omkrets)\n",
    "rektangel(2,5)"
   ]
  },
  {
   "cell_type": "code",
   "execution_count": null,
   "metadata": {},
   "outputs": [],
   "source": []
  }
 ]
}